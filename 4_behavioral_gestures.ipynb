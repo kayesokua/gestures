{
 "cells": [
  {
   "cell_type": "markdown",
   "metadata": {},
   "source": [
    "# Behavioral Gestures\n",
    "\n",
    "Laban/Bartenieff Movement Analysis (LMA) characterizes gestures as individual movements that convey meaning. Within LMA, behavioral gestures can be seen as functional, everyday, or task-oriented movements. In this notebook, we will employ analytic and geometric methods to devise a rule-based system for identifying common behavioral gestures from extracted features. Since no existing model specifically addresses this task, we will begin with basic behavioral gestures such as *standing*, *sitting*, and *bending of knees*.\n",
    "\n",
    "We will focus our analysis on [Emma Joubert's Skinny Love (Birdy cover) Contemporary Solo](https://www.youtube.com/watch?v=QOlSCBRmfWY).\n",
    "\n",
    "https://colab.research.google.com/drive/19txHpN8exWhstO6WVkfmYYVC6uug_oVR#scrollTo=QBrKOeP30RAx\n",
    "https://colab.research.google.com/drive/1z4IM8kG6ipHN6keadjD-F6vMiIIgViKK\n",
    "https://colab.research.google.com/drive/1uCuA6We9T5r0WljspEHWPHXCT_2bMKUy\n",
    "\n",
    "### Required Modules"
   ]
  },
  {
   "cell_type": "code",
   "execution_count": 1,
   "metadata": {},
   "outputs": [],
   "source": [
    "import pandas as pd\n",
    "import numpy as np\n",
    "import seaborn as sns\n",
    "import matplotlib.pyplot as plt\n",
    "import matplotlib.cm as cm\n",
    "import cv2"
   ]
  },
  {
   "cell_type": "markdown",
   "metadata": {},
   "source": [
    "## Behavioral Gestures Segmentation from Static Images\n",
    "\n",
    "We will selectively detect poses from the frames.\n",
    "\n",
    "![Image](https://i.ibb.co/zFDftG3/poses.png)\n",
    "\n",
    "Let's first define the basic positions using using a numerical approach\n",
    "\n",
    "1. `Standing`: If the difference between the height of the right and left sides is less than 0.08\n",
    "\n",
    "2. `Sitting down`: If the difference between the y-axis \n",
    "\n",
    "3. `Bent Knee`: If the angle from hip to knee not within the range of 85-95\n",
    "\n",
    "\n",
    "https://colab.research.google.com/drive/1uCuA6We9T5r0WljspEHWPHXCT_2bMKUy#scrollTo=FMJBvXvw-NsF"
   ]
  },
  {
   "cell_type": "markdown",
   "metadata": {},
   "source": [
    "## Repetition Counter\n",
    "\n",
    "https://colab.research.google.com/drive/19txHpN8exWhstO6WVkfmYYVC6uug_oVR#scrollTo=TEs_lgNiGv-j\n",
    "\n",
    "This code estimates positions of different body parts, computes Euclidean distances between them, calculates the difference between heights, difference in x-axis from hip to ankle, and the angle between the hip and knee joint for the left and right legs for each row in the dataframe."
   ]
  },
  {
   "cell_type": "code",
   "execution_count": 5,
   "metadata": {},
   "outputs": [
    {
     "name": "stdout",
     "output_type": "stream",
     "text": [
      "Estimated standing position 23.53 s\n",
      "Estimated sitting position 37.55 s\n",
      "Estimated bent knee position 59.36 s\n"
     ]
    }
   ],
   "source": [
    "def measure_pose_standing(df, threshold):\n",
    "    dfs = df.copy()\n",
    "    dfs['diff_rate_r'] = dfs['diff_height_r_and_l'] / dfs['total_height_r']\n",
    "    dfs['diff_rate_l'] = dfs['diff_height_r_and_l'] / dfs['total_height_l']\n",
    "    dfs['both_legs_straight'] = (dfs['diff_rate_r'] <= threshold) & (dfs['diff_rate_l'] <= threshold)\n",
    "    total = dfs['both_legs_straight'].sum()\n",
    "    return round(total/24.9,2)\n",
    "\n",
    "print(f\"Estimated standing position {measure_pose_standing(df,0.08)} s\")\n",
    "\n",
    "def measure_pose_sitting(df, threshold):\n",
    "    dfs = df.copy()\n",
    "    dfs['diff_rate_r'] = dfs['diff_hip_to_ankle_r']/((dfs['right_hip_x']+dfs['right_ankle_x'])/2)\n",
    "    dfs['diff_rate_l'] = dfs['diff_hip_to_ankle_r']/((dfs['right_hip_x']+dfs['right_ankle_x'])/2)\n",
    "    dfs['both_legs_sitting'] = (dfs['diff_rate_r'] <= threshold) & (dfs['diff_rate_l'] <= threshold)\n",
    "    total = dfs['both_legs_sitting'].sum()\n",
    "    return round(total/24.9,2)\n",
    "\n",
    "print(f\"Estimated sitting position {measure_pose_sitting(df,0.08)} s\")\n",
    "\n",
    "def measure_pose_bent_knees(df):\n",
    "    dfs = df[['angle_hip_knee_r','angle_hip_knee_l']].abs()\n",
    "    dfs['bent_knees'] = (dfs['angle_hip_knee_r'] < 80) | (dfs['angle_hip_knee_r'] > 100) & (dfs['angle_hip_knee_l'] < 80) | (dfs['angle_hip_knee_l'] > 100)\n",
    "    total = dfs['bent_knees'].sum()\n",
    "    return round(total/24.9,2)\n",
    "\n",
    "print(f\"Estimated bent knee position {measure_pose_bent_knees(df)} s\")"
   ]
  },
  {
   "cell_type": "markdown",
   "metadata": {},
   "source": [
    "## To be continued"
   ]
  }
 ],
 "metadata": {
  "kernelspec": {
   "display_name": "gestures",
   "language": "python",
   "name": "gestures"
  },
  "language_info": {
   "codemirror_mode": {
    "name": "ipython",
    "version": 3
   },
   "file_extension": ".py",
   "mimetype": "text/x-python",
   "name": "python",
   "nbconvert_exporter": "python",
   "pygments_lexer": "ipython3",
   "version": "3.10.6"
  }
 },
 "nbformat": 4,
 "nbformat_minor": 2
}
