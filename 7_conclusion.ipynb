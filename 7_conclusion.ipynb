{
 "cells": [
  {
   "cell_type": "markdown",
   "metadata": {},
   "source": [
    "# Partial Conclusions\n",
    "\n",
    "* The current system requires manual inspection, cleaning, and focused analysis to avoid excessive computing time. This approach may be inefficient for large datasets, and incorporating natural language processing could help generate more understandable feedback. Conducting qualitative research with professional and amateur dancers may provide valuable insights into the most meaningful feedback for dance analysis.\n",
    "* YouTube API may not be the ideal solution for data collection due to irrelevant videos and intro/outro presence.\n",
    "* TikTok can be considered an alternative, but an open-source API is not available yet.\n",
    "* Detecting poses per frame can improve pose estimation, but it can add complexity to data organization.\n",
    "* Further research is needed to extract audio-related features, such as breathing patterns, for expressive gestures.\n",
    "* Additional validation and optimization of the data augmentation process are required.\n",
    "* Computational methods for analysis can generate more objective feedback for dance but need to be tailored to specific domains and context.\n",
    "* More research is necessary to understand the variants of dancing and movement vocabulary.\n",
    "* The categorical labeling of dance genres is uncertain due to overlaps and cultural context.\n",
    "* It is essential to differentiate between every movement and gesture to ensure accurate analysis.\n",
    "\n",
    "## Recommendations\n",
    "Writing soon."
   ]
  },
  {
   "cell_type": "code",
   "execution_count": null,
   "metadata": {},
   "outputs": [],
   "source": []
  }
 ],
 "metadata": {
  "kernelspec": {
   "display_name": "Python 3 (ipykernel)",
   "language": "python",
   "name": "python3"
  },
  "language_info": {
   "codemirror_mode": {
    "name": "ipython",
    "version": 3
   },
   "file_extension": ".py",
   "mimetype": "text/x-python",
   "name": "python",
   "nbconvert_exporter": "python",
   "pygments_lexer": "ipython3",
   "version": "3.10.6"
  }
 },
 "nbformat": 4,
 "nbformat_minor": 2
}
