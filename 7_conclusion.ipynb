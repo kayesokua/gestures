{
 "cells": [
  {
   "attachments": {},
   "cell_type": "markdown",
   "metadata": {},
   "source": [
    "# Dance Analysis\n",
    "\n",
    "## Summary\n",
    "Begin by summarizing the main features and characteristics of the dataset, such as the number of observations, variables, and data types.\n",
    "\n",
    "## Patterns\n",
    "Identify any patterns, trends, or relationships that you observed during the exploration. This could include distributions of variables, correlations between variables, or any other insights that you gained.\n",
    "\n",
    "## Outliers\n",
    "Discuss any outliers, missing values, or anomalies that you found in the dataset and how you dealt with them during the analysis.\n",
    "\n",
    "## Limitations and Uncertain\n",
    "Consider the limitations of the dataset and the EDA. What are the potential sources of bias, error, or uncertainty in the analysis?\n",
    "\n",
    "## Conclusions and Recommendations\n",
    "- Downloaded videos require manual inspection and further cleaning\n",
    "- Computational methods can be used for objective feedback but it needs more focus or less the computing will be too long for each video.\n",
    "- Current proposed system is inefficient and might not be good for a large amount of data.\n",
    "- Describing feedback in human readable terms will require a fushion of NLTK\n",
    "- Qualitative research amongst professional and amateur dancers could provide insight on the kind of feedback that is important."
   ]
  }
 ],
 "metadata": {
  "kernelspec": {
   "display_name": "Python 3 (ipykernel)",
   "language": "python",
   "name": "python3"
  },
  "language_info": {
   "codemirror_mode": {
    "name": "ipython",
    "version": 3
   },
   "file_extension": ".py",
   "mimetype": "text/x-python",
   "name": "python",
   "nbconvert_exporter": "python",
   "pygments_lexer": "ipython3",
   "version": "3.10.6"
  }
 },
 "nbformat": 4,
 "nbformat_minor": 2
}
