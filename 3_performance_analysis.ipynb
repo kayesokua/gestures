{
 "cells": [
  {
   "cell_type": "markdown",
   "metadata": {},
   "source": [
    "# Performance Analysis\n",
    "\n",
    "In this analysis, we explore various computational methods to evaluate [Lily Jackson's solo performance in Paris Cavanagh's choreography](https://www.youtube.com/watch?v=YtdouPefSrQ). The following computational methods will be used: Rate of Change Trajectory, Range of Motion, Motion Energy Map, Joint Velocities, Beat Alignment, and Principal Component Analysis. In this notebook, we aim to explore ways to logically structure an analysis and what would be helpful for feature extraction.\n",
    "\n",
    "### Requirements"
   ]
  },
  {
   "cell_type": "code",
   "execution_count": 1,
   "metadata": {},
   "outputs": [],
   "source": [
    "import os\n",
    "import cv2\n",
    "import matplotlib.pyplot as plt\n",
    "from matplotlib.ticker import MultipleLocator\n",
    "import numpy as np\n",
    "import moten\n",
    "import pandas as pd\n",
    "from matplotlib.gridspec import GridSpec\n",
    "from sklearn.preprocessing import StandardScaler\n",
    "from sklearn.decomposition import PCA"
   ]
  },
  {
   "cell_type": "markdown",
   "metadata": {},
   "source": [
    "### Load Data\n"
   ]
  },
  {
   "cell_type": "code",
   "execution_count": 2,
   "metadata": {},
   "outputs": [],
   "source": [
    "kd = pd.read_csv('data/processed/contemporary_001.csv')\n",
    "image_path = 'data/interim/contemporary_001/frames'\n",
    "image_files = sorted([f for f in os.listdir(image_path) if f.endswith('.png')])\n",
    "video_file_path = 'data/external/contemporary_001.mp4'"
   ]
  },
  {
   "cell_type": "markdown",
   "metadata": {},
   "source": [
    "### Selecting a Time Interval\n",
    "The code snippet below enables you to focus on a specific time interval within the kinematic data, allowing for a more targeted analysis of the dancer's performance."
   ]
  },
  {
   "cell_type": "code",
   "execution_count": 3,
   "metadata": {},
   "outputs": [
    {
     "data": {
      "text/html": [
       "<div>\n",
       "<style scoped>\n",
       "    .dataframe tbody tr th:only-of-type {\n",
       "        vertical-align: middle;\n",
       "    }\n",
       "\n",
       "    .dataframe tbody tr th {\n",
       "        vertical-align: top;\n",
       "    }\n",
       "\n",
       "    .dataframe thead th {\n",
       "        text-align: right;\n",
       "    }\n",
       "</style>\n",
       "<table border=\"1\" class=\"dataframe\">\n",
       "  <thead>\n",
       "    <tr style=\"text-align: right;\">\n",
       "      <th></th>\n",
       "      <th>frame</th>\n",
       "      <th>nose_x</th>\n",
       "      <th>nose_y</th>\n",
       "      <th>nose_z</th>\n",
       "      <th>left_eye_inner_x</th>\n",
       "      <th>left_eye_inner_y</th>\n",
       "      <th>left_eye_inner_z</th>\n",
       "      <th>left_eye_x</th>\n",
       "      <th>left_eye_y</th>\n",
       "      <th>left_eye_z</th>\n",
       "      <th>...</th>\n",
       "      <th>diff_right_knee_z</th>\n",
       "      <th>diff_left_knee_x</th>\n",
       "      <th>diff_left_knee_y</th>\n",
       "      <th>diff_left_knee_z</th>\n",
       "      <th>diff_right_ankle_x</th>\n",
       "      <th>diff_right_ankle_y</th>\n",
       "      <th>diff_right_ankle_z</th>\n",
       "      <th>diff_left_ankle_x</th>\n",
       "      <th>diff_left_ankle_y</th>\n",
       "      <th>diff_left_ankle_z</th>\n",
       "    </tr>\n",
       "  </thead>\n",
       "  <tbody>\n",
       "    <tr>\n",
       "      <th>2</th>\n",
       "      <td>60</td>\n",
       "      <td>0.485273</td>\n",
       "      <td>0.219256</td>\n",
       "      <td>-0.280624</td>\n",
       "      <td>0.492189</td>\n",
       "      <td>0.202155</td>\n",
       "      <td>-0.253160</td>\n",
       "      <td>0.496962</td>\n",
       "      <td>0.202840</td>\n",
       "      <td>-0.253058</td>\n",
       "      <td>...</td>\n",
       "      <td>-0.003858</td>\n",
       "      <td>-0.009441</td>\n",
       "      <td>0.010817</td>\n",
       "      <td>0.000331</td>\n",
       "      <td>-0.016307</td>\n",
       "      <td>0.037791</td>\n",
       "      <td>0.015470</td>\n",
       "      <td>-0.012651</td>\n",
       "      <td>0.042522</td>\n",
       "      <td>0.035923</td>\n",
       "    </tr>\n",
       "    <tr>\n",
       "      <th>3</th>\n",
       "      <td>90</td>\n",
       "      <td>0.486556</td>\n",
       "      <td>0.216945</td>\n",
       "      <td>-0.248385</td>\n",
       "      <td>0.493592</td>\n",
       "      <td>0.200263</td>\n",
       "      <td>-0.220545</td>\n",
       "      <td>0.498182</td>\n",
       "      <td>0.200760</td>\n",
       "      <td>-0.220472</td>\n",
       "      <td>...</td>\n",
       "      <td>0.003958</td>\n",
       "      <td>0.001870</td>\n",
       "      <td>-0.001290</td>\n",
       "      <td>0.001910</td>\n",
       "      <td>0.000252</td>\n",
       "      <td>0.004040</td>\n",
       "      <td>-0.010962</td>\n",
       "      <td>0.003609</td>\n",
       "      <td>-0.016371</td>\n",
       "      <td>-0.030781</td>\n",
       "    </tr>\n",
       "    <tr>\n",
       "      <th>4</th>\n",
       "      <td>120</td>\n",
       "      <td>0.433745</td>\n",
       "      <td>0.230009</td>\n",
       "      <td>-0.101605</td>\n",
       "      <td>0.439995</td>\n",
       "      <td>0.209614</td>\n",
       "      <td>-0.086546</td>\n",
       "      <td>0.444377</td>\n",
       "      <td>0.208915</td>\n",
       "      <td>-0.086575</td>\n",
       "      <td>...</td>\n",
       "      <td>0.005218</td>\n",
       "      <td>-0.000306</td>\n",
       "      <td>-0.003044</td>\n",
       "      <td>-0.069447</td>\n",
       "      <td>0.004292</td>\n",
       "      <td>0.010251</td>\n",
       "      <td>0.017208</td>\n",
       "      <td>0.009121</td>\n",
       "      <td>0.044594</td>\n",
       "      <td>-0.118247</td>\n",
       "    </tr>\n",
       "    <tr>\n",
       "      <th>5</th>\n",
       "      <td>150</td>\n",
       "      <td>0.443140</td>\n",
       "      <td>0.251476</td>\n",
       "      <td>-0.083362</td>\n",
       "      <td>0.447163</td>\n",
       "      <td>0.233594</td>\n",
       "      <td>-0.052887</td>\n",
       "      <td>0.451157</td>\n",
       "      <td>0.233189</td>\n",
       "      <td>-0.052941</td>\n",
       "      <td>...</td>\n",
       "      <td>-0.034225</td>\n",
       "      <td>-0.002392</td>\n",
       "      <td>-0.002596</td>\n",
       "      <td>0.028837</td>\n",
       "      <td>0.002562</td>\n",
       "      <td>0.011435</td>\n",
       "      <td>-0.048514</td>\n",
       "      <td>-0.009465</td>\n",
       "      <td>-0.053983</td>\n",
       "      <td>0.061190</td>\n",
       "    </tr>\n",
       "    <tr>\n",
       "      <th>6</th>\n",
       "      <td>180</td>\n",
       "      <td>0.439002</td>\n",
       "      <td>0.684247</td>\n",
       "      <td>0.402012</td>\n",
       "      <td>0.433837</td>\n",
       "      <td>0.692792</td>\n",
       "      <td>0.397050</td>\n",
       "      <td>0.433185</td>\n",
       "      <td>0.697021</td>\n",
       "      <td>0.397056</td>\n",
       "      <td>...</td>\n",
       "      <td>0.019550</td>\n",
       "      <td>0.004883</td>\n",
       "      <td>-0.262904</td>\n",
       "      <td>-0.062697</td>\n",
       "      <td>0.118837</td>\n",
       "      <td>-0.519156</td>\n",
       "      <td>-0.401491</td>\n",
       "      <td>0.041640</td>\n",
       "      <td>-0.450467</td>\n",
       "      <td>-0.459375</td>\n",
       "    </tr>\n",
       "  </tbody>\n",
       "</table>\n",
       "<p>5 rows × 169 columns</p>\n",
       "</div>"
      ],
      "text/plain": [
       "   frame    nose_x    nose_y    nose_z  left_eye_inner_x  left_eye_inner_y  \\\n",
       "2     60  0.485273  0.219256 -0.280624          0.492189          0.202155   \n",
       "3     90  0.486556  0.216945 -0.248385          0.493592          0.200263   \n",
       "4    120  0.433745  0.230009 -0.101605          0.439995          0.209614   \n",
       "5    150  0.443140  0.251476 -0.083362          0.447163          0.233594   \n",
       "6    180  0.439002  0.684247  0.402012          0.433837          0.692792   \n",
       "\n",
       "   left_eye_inner_z  left_eye_x  left_eye_y  left_eye_z  ...  \\\n",
       "2         -0.253160    0.496962    0.202840   -0.253058  ...   \n",
       "3         -0.220545    0.498182    0.200760   -0.220472  ...   \n",
       "4         -0.086546    0.444377    0.208915   -0.086575  ...   \n",
       "5         -0.052887    0.451157    0.233189   -0.052941  ...   \n",
       "6          0.397050    0.433185    0.697021    0.397056  ...   \n",
       "\n",
       "   diff_right_knee_z  diff_left_knee_x  diff_left_knee_y  diff_left_knee_z  \\\n",
       "2          -0.003858         -0.009441          0.010817          0.000331   \n",
       "3           0.003958          0.001870         -0.001290          0.001910   \n",
       "4           0.005218         -0.000306         -0.003044         -0.069447   \n",
       "5          -0.034225         -0.002392         -0.002596          0.028837   \n",
       "6           0.019550          0.004883         -0.262904         -0.062697   \n",
       "\n",
       "   diff_right_ankle_x  diff_right_ankle_y  diff_right_ankle_z  \\\n",
       "2           -0.016307            0.037791            0.015470   \n",
       "3            0.000252            0.004040           -0.010962   \n",
       "4            0.004292            0.010251            0.017208   \n",
       "5            0.002562            0.011435           -0.048514   \n",
       "6            0.118837           -0.519156           -0.401491   \n",
       "\n",
       "   diff_left_ankle_x  diff_left_ankle_y  diff_left_ankle_z  \n",
       "2          -0.012651           0.042522           0.035923  \n",
       "3           0.003609          -0.016371          -0.030781  \n",
       "4           0.009121           0.044594          -0.118247  \n",
       "5          -0.009465          -0.053983           0.061190  \n",
       "6           0.041640          -0.450467          -0.459375  \n",
       "\n",
       "[5 rows x 169 columns]"
      ]
     },
     "execution_count": 3,
     "metadata": {},
     "output_type": "execute_result"
    }
   ],
   "source": [
    "kd = kd.drop(kd.columns[[0, 2]], axis=1)\n",
    "kd = kd.iloc[2:34]\n",
    "kd.head(5)"
   ]
  },
  {
   "cell_type": "markdown",
   "metadata": {},
   "source": [
    "# Rate of Change Trajectory\n",
    "\n",
    "**Rate of Change Trajectory** helps us understand the positions of the dancer's joints in three dimensions (horizontal, vertical, and frontal) over time. By examining the trajectories, we can gain insight into the shape and spatial aspects of the dance, laying the foundation for our analysis. The following plots displays the screen caps per second and trajectory rate change between `00:02`-`00:31`. The straight lines represent the *upper body movement* and dashed lines represent *lower body movements*\n",
    "* **x-joint trajectory** represents the horizontal movemen of each joint\n",
    "* **y-joint trajectory** represents the vertical movement of each joint\n",
    "* **z-joint trajectory** represents the distance of the performer to the camera, with negative values indicating stepping backward and positive values indicating forward movements."
   ]
  },
  {
   "cell_type": "code",
   "execution_count": null,
   "metadata": {},
   "outputs": [],
   "source": [
    "plt.rcParams.update({'font.size': 16})\n",
    "plt.rcParams['figure.constrained_layout.use'] = True\n",
    "frame_numbers = sorted(kd['frame'].tolist())\n",
    "cols, rows = 10, 4\n",
    "fig = plt.figure(figsize=(30, 10))\n",
    "for idx, frame_number in enumerate(frame_numbers):\n",
    "    row_idx, col_idx = divmod(idx, cols)\n",
    "    image_file = f\"{str(frame_number).zfill(5)}.png\"\n",
    "    img = cv2.imread(os.path.join(image_path, image_file))\n",
    "    img = cv2.cvtColor(img, cv2.COLOR_BGR2RGB)\n",
    "    ax = fig.add_subplot(rows, cols, idx + 1)\n",
    "    ax.imshow(img)\n",
    "    ax.set_title(f\"00:{kd.index[idx]:02d}\")\n",
    "    ax.axis('off')\n",
    "plt.show()\n",
    "\n",
    "\n",
    "fig = plt.figure(figsize=(24, 12))\n",
    "gs = GridSpec(rows, cols, figure=fig)\n",
    "colors = ['blue', 'green', 'red', 'cyan', 'magenta', 'yellow', 'black', 'gray', 'purple', 'orange', 'pink', 'brown']\n",
    "line_styles = ['-','-','-','-','-','-',':', ':', ':',':']\n",
    "diff_l = ['Forehead','Torso','R Shoulder','L Shoulder','R Elbow','L Elbow','R Knee','L Knee','R Ankle','L Ankle']\n",
    "diff_xyz = [col_name for col_name in kd.columns if col_name.startswith('diff_') and col_name[-2:] in ['_x', '_y', '_z']]\n",
    "\n",
    "for r in range(1, rows):\n",
    "    ax = fig.add_subplot(gs[r, :]) \n",
    "    for i, col in enumerate(diff_xyz[r-1::3]):\n",
    "        ax.plot(kd.index, kd[col], color=colors[i % len(colors)], linestyle=line_styles[i % len(line_styles)], label=diff_l[i])\n",
    "    ax.set_xticks(np.arange(kd.index.min(), kd.index.max()+1, 1))\n",
    "    ax.set_xlim(kd.index.min(), kd.index.max())\n",
    "    ax.set_ylim(-1, 1)\n",
    "    ax.set_xlabel('Time (mm:ss)') \n",
    "    ax.set_title(f\"{col[-2:].upper()} Trajectory Rate Change from 00:02 to 00:31\")\n",
    "    ax.grid()\n",
    "    \n",
    "ax.legend(loc='lower center', ncol=8, bbox_to_anchor=(0.5, -1.25))\n",
    "plt.tight_layout()"
   ]
  },
  {
   "cell_type": "markdown",
   "metadata": {},
   "source": [
    "### Quick Observations\n",
    "\n",
    "* A notable peaks can be seen between `00:06`-`00:07`, however, up on manual inspection using the screenshots indicated an absent landmark. Therefore, the trajectory peaks do not correspond to sudden movement changes.\n",
    "* Throughout the choreography, the performer emphasizes upper body movements over lower body movements, resulting in more noticeable rate of change in the `right_shoulder`, `right_elbow`, `left_shoulder`, and `left_elbow` joints.\n",
    "* With a higher rate of change found in the upper body joints, delving into the wrist, thumbs, and hand movements might be more insightful than the lower body.\n",
    "* The dancer primarily remains stationary during the performance, leading to reduced activity in all **x-joint trajectories**.\n",
    "* Most changes in trajectory range from `-0.2` to `0.2`. Although these variations are subtle, the cumulative effect contributes to the percussive dynamic gestures observed in the dance."
   ]
  },
  {
   "cell_type": "markdown",
   "metadata": {},
   "source": [
    "# Range of Motion\n",
    "\n",
    "This metric measures the extent of movement for each joint throughout the dance. A wider range of motion indicates that the dancer is fully utilizing the space available to them. This builds upon the spatial understanding from the previous metric."
   ]
  },
  {
   "cell_type": "code",
   "execution_count": null,
   "metadata": {},
   "outputs": [],
   "source": [
    "a_cols = [col for col in kd.columns if col.startswith('a_')]\n",
    "\n",
    "min_values = kd[a_cols].min()\n",
    "max_values = kd[a_cols].max()\n",
    "\n",
    "rom_values = max_values - min_values\n",
    "\n",
    "kd_rom = pd.DataFrame({\n",
    "    'joint': [col[2:] for col in a_cols],\n",
    "    'min_angle': min_values.values,\n",
    "    'max_angle': max_values.values,\n",
    "    'rom': rom_values.values\n",
    "})\n",
    "\n",
    "kd_rom = kd_rom.sort_values(by='rom', ascending=False)\n",
    "print(kd_rom.head(15))"
   ]
  },
  {
   "cell_type": "markdown",
   "metadata": {},
   "source": [
    "### Quick Observations\n",
    "\n",
    "The ROM (range of motion) values tell us about the variability in movement for each joint pair during the motion capture session. A higher ROM value suggests that the joint underwent more diverse movements during the session, while a lower ROM value suggests that the joint was more stable and did not move as much.\n",
    "\n",
    "* The joint pair with the highest ROM is the \"forehead_torso\" pair, indicating a lot of movement in the upper body region.\n",
    "* Four of the top five joint pairs with the highest ROM values are in the upper body region, suggesting that there were more movements in the upper body compared to the lower body during the motion capture session.\n",
    "* The joint pairs with the lowest ROM values are in the ankle and foot regions, suggesting that these joints were relatively stable and did not move as much during the session."
   ]
  },
  {
   "cell_type": "markdown",
   "metadata": {},
   "source": [
    "## Motion Energy using Pymoten\n",
    "\n",
    "Luminance in motion analysis measures the changes in pixel intensities between consecutive video frames. The Moten model uses a bank of spatiotemporal filters to analyze these changes and extract motion direction, speed, and orientation information. Color intensity in Moten's output represents the magnitude of motion energy, with yellow indicating high and blue indicating low motion energy. The x-axis corresponds to time, and the y-axis represents the spatial domain. High energy motion indicates more rapid or larger movements in the video, reflecting the speed and amplitude of the movements. For efficieny, we use [Pymoten's Pyramid Object](https://github.com/gallantlab/pymoten/blob/main/moten/pyramids.py) to compute the motion energy map."
   ]
  },
  {
   "cell_type": "code",
   "execution_count": null,
   "metadata": {},
   "outputs": [],
   "source": [
    "nimages = 150\n",
    "stimulus_fps = 30\n",
    "video_file = 'data/external/contemporary_001.mp4'\n",
    "luminance_images = moten.io.video2luminance(video_file, nimages=nimages)\n",
    "nimages, vdim, hdim = luminance_images.shape\n",
    "pyramid = moten.pyramids.MotionEnergyPyramid(stimulus_vhsize=(vdim, hdim),\n",
    "                                             stimulus_fps=stimulus_fps)\n",
    "features = pyramid.project_stimulus(luminance_images)\n",
    "print(pyramid)"
   ]
  },
  {
   "cell_type": "code",
   "execution_count": null,
   "metadata": {},
   "outputs": [],
   "source": [
    "fig, ax = plt.subplots(figsize=(24, 4))\n",
    "ax.matshow(features, aspect='auto')\n",
    "ax.set_xlim(0,len(kd)) #disregards excess features layers\n",
    "ax.set_xticks(range(0,len(kd),1)) #every second\n",
    "plt.show()"
   ]
  },
  {
   "cell_type": "markdown",
   "metadata": {},
   "source": [
    "### Spatial Components of the Motion Energy Filters\n",
    "\n",
    "In the code snippet below, we demonstrate how the spatial filters vary in term of spatial frequencies, locations, and directions. (Source: [Pymoten's Documentation](https://gallantlab.org/pymoten/auto_examples/introduction/demo_gabor_filters.html)). For more details about the plotting process, please refer to the code in [/src/data/collection.py](https://github.com/kayesokua/gestures/blob/main/src/data/lotting.py)."
   ]
  },
  {
   "cell_type": "code",
   "execution_count": null,
   "metadata": {},
   "outputs": [],
   "source": [
    "from src.data.plotting import plot_spatial_gabors\n",
    "seconds = [t for t in range(60, 1030, 30)]\n",
    "plot_spatial_gabors(pyramid, [s for s in seconds[0:10]])\n",
    "plot_spatial_gabors(pyramid, [s for s in seconds[10:20]])\n",
    "plot_spatial_gabors(pyramid, [s for s in seconds[20:30]])"
   ]
  },
  {
   "cell_type": "markdown",
   "metadata": {},
   "source": [
    "## Observations\n",
    "* The motion energy map indicates high energy motion throughout the video, with a color scale representing the magnitude of motion energy at each location.\n",
    "* The direction of the Gabor filters throughout the frames (representing the timing) tells us that the spatial pattern is energetic by the second, with directions found in horizontal, vertical and diagonal directions.\n",
    "* The luminance of the Gabor filter throughout the frames may indicate the changing lighting of the video collected, which is not relevant information about the performer's dance and can be ignored.\n",
    "* The motion energy map may be more useful for comparative analysis rather than absolute motion analysis. However, it does require higher computing time and does not take music into account.\n",
    "* A different motion energy map package or algorithm may be considered."
   ]
  },
  {
   "cell_type": "markdown",
   "metadata": {},
   "source": [
    "# Joint Velocities\n",
    "\n",
    "This analysis describes the speed of the dancer's movements and how they relate to the tempo of the music. Examining joint velocities allows us to evaluate the performance from the viewpoints of timing and dynamics, connecting the energy of the dance to its timing."
   ]
  },
  {
   "cell_type": "code",
   "execution_count": null,
   "metadata": {},
   "outputs": [],
   "source": [
    "kd_vlab = ['Shoulder to Elbow','Elbow to Wrist','Hip to Knee','Ankle to Foot Index']\n",
    "kd_vcols_r = ['v_right_shoulder_right_elbow', 'v_right_elbow_right_wrist','v_right_hip_right_knee','v_right_ankle_right_foot_index']\n",
    "fig = plt.subplots(figsize=(24, 6))\n",
    "for i, item in enumerate(kd_vcols_r):\n",
    "    plt.plot(kd_v.index,kd_v[item], label=kd_vlab[i])\n",
    "plt.xlim([2, 31])\n",
    "plt.xticks(np.arange(2, 31, step=1))\n",
    "plt.grid()\n",
    "plt.title('Joint Velocity on Right Side')\n",
    "plt.legend()\n",
    "plt.show()\n",
    "\n",
    "kd_vcols_l = ['v_left_shoulder_left_elbow', 'v_left_elbow_left_wrist','v_left_hip_left_knee','v_left_ankle_left_foot_index']\n",
    "fig = plt.subplots(figsize=(24, 6))\n",
    "for i, item in enumerate(kd_vcols_l):\n",
    "    plt.plot(kd_v.index,kd_v[item], label=kd_vlab[i])\n",
    "plt.xlim([2, 31])\n",
    "plt.xticks(np.arange(2, 31, step=1))\n",
    "plt.grid()\n",
    "plt.title('Joint Velocity on Left Side')\n",
    "plt.legend()\n",
    "plt.show()"
   ]
  },
  {
   "cell_type": "code",
   "execution_count": null,
   "metadata": {},
   "outputs": [],
   "source": [
    "\n",
    "kd_d = kd.filter(regex='^d_')\n",
    "\n",
    "kd_v = kd.filter(regex='^v_')\n",
    "kd_v.head()"
   ]
  },
  {
   "cell_type": "markdown",
   "metadata": {},
   "source": [
    "# Beat Alignment\n",
    "\n",
    "Beat Alignment: This metric measures how well the dancer's movements are synchronized with the music, and whether their movements align with the beats. This helps us assess the dancer's sense of timing and musicality, further exploring the temporal aspects of the performance."
   ]
  },
  {
   "cell_type": "code",
   "execution_count": 13,
   "metadata": {},
   "outputs": [
    {
     "name": "stdout",
     "output_type": "stream",
     "text": [
      "[[0. 0. 0. ... 0. 0. 0.]]\n",
      "[[0. 0. 0. ... 0. 0. 0.]]\n",
      "Array contains non-zero values\n",
      "Array contains non-zero values\n"
     ]
    }
   ],
   "source": [
    "from src.features.audio import extract_tempo_and_beats, extract_rms_energy, extract_zero_crossing_rate\n",
    "tempo, beat_times = extract_tempo_and_beats(video_file_path)\n",
    "\n",
    "rms = extract_rms_energy(video_file_path)\n",
    "zcr = extract_zero_crossing_rate(video_file_path)\n",
    "\n",
    "print(rms)\n",
    "print(zcr)\n",
    "\n",
    "if np.any(rms != 0):\n",
    "    print(\"Array contains non-zero values\")\n",
    "else:\n",
    "    print(\"Array does not contain non-zero values\")\n",
    "    \n",
    "if np.any(zcr != 0):\n",
    "    print(\"Array contains non-zero values\")\n",
    "else:\n",
    "    print(\"Array does not contain non-zero values\")\n"
   ]
  },
  {
   "cell_type": "markdown",
   "metadata": {},
   "source": [
    "# Principal Component Analysis\n",
    "\n",
    "Principal Component Analysis (PCA) Visualization: PCA can be used to reduce the dimensionality of the kinematic data and project it onto a lower-dimensional space that can be easily visualized. This can help to identify the most important features that distinguish different dance styles or gestures.\n",
    "\n",
    "Scatter plot trends that leans towards (positive,positive) indicates strong correlation. If a joint within the same group moves, most like the other joint is moving.  This ggives up insight on how to structure analysis of gestures.\n",
    " \n",
    "PCA can provide insights into the structure and relationships among joint movements in a dance performance. It can help identify patterns of correlation and similarity among different joints, but it does not necessarily provide causal explanations for these patterns."
   ]
  },
  {
   "cell_type": "code",
   "execution_count": null,
   "metadata": {},
   "outputs": [],
   "source": [
    "beat_times = beat_times[2:32]\n",
    "\n",
    "fig, axs = plt.subplots(1, 3, figsize=(24, 6))\n",
    "axs[0].plot(kd.index, kd['beat_time'])\n",
    "axs[1].plot(kd.index, rms)\n",
    "axs[0].plot(kd.index, zcr)\n",
    "plt.show()\n"
   ]
  },
  {
   "cell_type": "code",
   "execution_count": null,
   "metadata": {},
   "outputs": [],
   "source": [
    "joints_upper = ['nose', 'forehead', 'mouth_right', 'mouth_left']\n",
    "joints_mid = ['right_shoulder', 'left_shoulder', 'right_hip', 'left_hip']\n",
    "joints_fingers = ['right_thumb', 'right_index', 'right_pinky', 'left_thumb', 'right_index', 'right_pinky']\n",
    "joint_arms = ['right_shoulder', 'right_elbow', 'right_wrist', 'left_shoulder', 'left_elbow', 'left_wrist']\n",
    "joint_lower = ['right_knee', 'right_ankle', 'right_foot_index', 'left_knee', 'left_ankle', 'left_foot_index']\n",
    "all_joints = joints_upper + joints_mid + joints_fingers + joint_arms + joint_lower\n",
    "\n",
    "fig, axs = plt.subplots(2, 3, figsize=(24, 12))\n",
    "axs = axs.flatten()\n",
    "joints_groups = [joints_upper, joints_mid, joints_fingers, joint_arms, joint_lower, all_joints]\n",
    "joints_labels = [\"Upper Body\", \"Mid Body\", \"Fingers\", \"Arms\", \"Legwork\", \"All Joints\"]\n",
    "\n",
    "for i, joint_group in enumerate(joints_groups):\n",
    "    joint_data = []\n",
    "    for joint in joint_group:\n",
    "        joint_x, joint_y, joint_z = joint + \"_x\", joint + \"_y\", joint + \"_z\"\n",
    "        np_joint = np.stack([kd[joint_x], kd[joint_y], kd[joint_z]], axis=1)\n",
    "        joint_data.append(np_joint)\n",
    "\n",
    "    np_joints = np.concatenate(joint_data, axis=1)\n",
    "    scaler = StandardScaler()\n",
    "    joints_std = scaler.fit_transform(np_joints)\n",
    "    pca = PCA(n_components=2)\n",
    "    principal_components = pca.fit_transform(joints_std)\n",
    "\n",
    "    ax = axs[i]\n",
    "    ax.scatter(principal_components[:, 0], principal_components[:, 1])\n",
    "    ax.set_xlabel('Principal Component 1')\n",
    "    ax.set_ylabel('Principal Component 2')\n",
    "    ax.xaxis.set_major_locator(MultipleLocator(2.5))\n",
    "    ax.yaxis.set_major_locator(MultipleLocator(2.5))\n",
    "    ax.set_xlim(-12.5, 12.5)\n",
    "    ax.set_ylim(-12.5, 12.5)\n",
    "    ax.set_title(f\"{joints_labels[i]}\")\n",
    "    ax.grid(True)\n",
    "\n",
    "plt.tight_layout()\n",
    "plt.show()"
   ]
  },
  {
   "cell_type": "markdown",
   "metadata": {},
   "source": [
    "## Sources\n",
    "\n",
    "1. https://link.springer.com/article/10.3758/s13428-021-01612-7\n",
    "2. https://gallantlab.org/pymoten"
   ]
  },
  {
   "cell_type": "code",
   "execution_count": null,
   "metadata": {},
   "outputs": [],
   "source": [
    "4. **Joint Velocities**: \n",
    "5. **Beat Alignment**: This metric measures how well the dancer's movements are synchronized with the music, and whether their movements align with the beats. This helps us assess the dancer's sense of timing and musicality, further exploring the temporal aspects of the performance.\n",
    "6. **Principal Component Analysis**: This statistical technique allows us to describe the relationship between groups of joints in the dance. By analyzing the principal components, we can better understand the shape, space, and gesture aspects of the performance, synthesizing the insights gained from previous metrics.\n"
   ]
  },
  {
   "cell_type": "code",
   "execution_count": null,
   "metadata": {},
   "outputs": [],
   "source": []
  }
 ],
 "metadata": {
  "kernelspec": {
   "display_name": "Python 3 (ipykernel)",
   "language": "python",
   "name": "python3"
  },
  "language_info": {
   "codemirror_mode": {
    "name": "ipython",
    "version": 3
   },
   "file_extension": ".py",
   "mimetype": "text/x-python",
   "name": "python",
   "nbconvert_exporter": "python",
   "pygments_lexer": "ipython3",
   "version": "3.10.6"
  }
 },
 "nbformat": 4,
 "nbformat_minor": 2
}
