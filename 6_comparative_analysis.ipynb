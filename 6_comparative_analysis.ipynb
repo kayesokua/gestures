{
 "cells": [
  {
   "cell_type": "markdown",
   "metadata": {},
   "source": [
    "# Comparative Analysis\n",
    "\n",
    "The purpose of this analysis is to identify the similarities and differences between the dance performances and to evaluate the effectiveness of the computational methods mentioned in the previous notebooks.\n",
    "\n",
    "## Dance videos from the same artist\n",
    "\n",
    "## Dance videos from a similar genre\n",
    "\n",
    "## Dance video from a different genre\n",
    "\n",
    "# Summary"
   ]
  }
 ],
 "metadata": {
  "kernelspec": {
   "display_name": "Python 3 (ipykernel)",
   "language": "python",
   "name": "python3"
  },
  "language_info": {
   "codemirror_mode": {
    "name": "ipython",
    "version": 3
   },
   "file_extension": ".py",
   "mimetype": "text/x-python",
   "name": "python",
   "nbconvert_exporter": "python",
   "pygments_lexer": "ipython3",
   "version": "3.10.6"
  }
 },
 "nbformat": 4,
 "nbformat_minor": 2
}
