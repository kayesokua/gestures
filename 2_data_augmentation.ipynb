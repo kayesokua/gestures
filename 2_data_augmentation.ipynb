{
 "cells": [
  {
   "cell_type": "markdown",
   "id": "38a73db4",
   "metadata": {},
   "source": [
    "# Kinematic Data Augmention\n",
    "\n",
    "This notebook demonstrates a data augmentation process for kinematic data, including the estimation of additional joint positions, angles, and distances, using geometric methods for both relative and absolute values, with the assumption that the performer is in an upright position.\n",
    "\n",
    "### Required Modules"
   ]
  },
  {
   "cell_type": "code",
   "execution_count": null,
   "id": "115493ee",
   "metadata": {},
   "outputs": [],
   "source": [
    "import os\n",
    "import cv2\n",
    "import math\n",
    "import pandas as pd\n",
    "import numpy as np"
   ]
  },
  {
   "cell_type": "markdown",
   "id": "6c101b4c",
   "metadata": {},
   "source": [
    "## Indexing by Seconds\n",
    "\n",
    "For consistency and efficiency, we index the frames by seconds using the frames-per-second (fps) value. This allows us to divide the data into equal time intervals and facilitates the computation of features such as distances and velocities."
   ]
  },
  {
   "cell_type": "code",
   "execution_count": null,
   "id": "cc43d3ac",
   "metadata": {},
   "outputs": [],
   "source": [
    "kd = pd.read_csv('./data/interim/contemporary_001/landmarks_rel.csv')\n",
    "fps = int(kd['fps'][0])\n",
    "kd = kd[::fps].reset_index(drop=True)\n",
    "kd.tail(5)"
   ]
  },
  {
   "cell_type": "markdown",
   "id": "ea20fb92",
   "metadata": {},
   "source": [
    "## Augmenting Joint Positions\n",
    "\n",
    "MediaPipe's current implementation involves using 32 landmarks to identify joints (as shown in a reference picture). In order to gain a more comprehensive understanding of body alignment and posture during performances, we have estimated additional joint positions, which can be helpful in achieving this goal.\n",
    "\n",
    "![Image](https://mediapipe.dev/images/mobile/pose_tracking_full_body_landmarks.png)\n",
    "\n",
    "### Forehead Joint\n",
    "\n",
    "This computation estimates the position of the forehead joint using the average position of the outer corners of both eyes in both relative and absolute kinematic data."
   ]
  },
  {
   "cell_type": "code",
   "execution_count": 5,
   "id": "1475ee66",
   "metadata": {},
   "outputs": [],
   "source": [
    "kd.loc[:, 'forehead_x'] = (kd['left_eye_outer_x'] + kd['right_eye_outer_x']) / 2\n",
    "kd.loc[:, 'forehead_y'] = (kd['left_eye_outer_y'] + kd['right_eye_outer_y']) / 2\n",
    "kd.loc[:, 'forehead_z'] = (kd['left_eye_outer_z'] + kd['right_eye_outer_z']) / 2"
   ]
  },
  {
   "cell_type": "markdown",
   "id": "f0184f57",
   "metadata": {},
   "source": [
    "### Torso Joint\n",
    "\n",
    "This computation estimates the location of the torso joint by averaging the positions of the left and right shoulders and left and right hips."
   ]
  },
  {
   "cell_type": "code",
   "execution_count": 6,
   "id": "3605b46f",
   "metadata": {},
   "outputs": [],
   "source": [
    "kd.loc[:, 'torso_x'] = (kd['left_shoulder_x'] + kd['right_shoulder_x'] + kd['left_hip_x'] + kd['right_hip_x']) / 4\n",
    "kd.loc[:, 'torso_y'] = (kd['left_shoulder_y'] + kd['right_shoulder_y'] + kd['left_hip_y'] + kd['right_hip_y']) / 4\n",
    "kd.loc[:, 'torso_z'] = (kd['left_shoulder_z'] + kd['right_shoulder_z'] + kd['left_hip_z'] + kd['right_hip_z']) / 4"
   ]
  },
  {
   "cell_type": "markdown",
   "id": "22fc6ab8",
   "metadata": {},
   "source": [
    "## Augmenting Joint Data with Angles, Distance, and Velocity\n",
    "We can extract valuable information about body alignment and posture during a performance by augmenting the joint data with joint angles, distances, and velocities. To compute joint angles, we use the dot product of the joint vectors and the arccosine function to convert it into degrees. For distances, we use the Euclidean distance between the joint positions. To compute velocities, we take the difference in distance between consecutive frames and multiply it by the frames-per-second (fps) value. These computed features are based on the connections between limbs in the human body.\n",
    "\n",
    "And here are the formulas for angle, distance, and velocity in LaTeX:\n",
    "\n",
    "Joint angle: $\\theta = \\cos^{-1}\\left(\\frac{\\vec{v_1}\\cdot\\vec{v_2}}{\\left|\\vec{v_1}\\right|\\left|\\vec{v_2}\\right|}\\right)$\n",
    "\n",
    "Joint distance: $d = \\left|\\vec{v_1} - \\vec{v_2}\\right|$\n",
    "\n",
    "Joint velocity: $v = (d_t - d_{t-1}) \\cdot \\text{fps}$\n",
    "\n",
    "where $\\vec{v_1}$ and $\\vec{v_2}$ are the joint vectors at time $t$ and $d_t$ and $d_{t-1}$ are the distances between the joints at time $t$ and $t-1$, respectively.\n",
    "\n",
    "Source: [Vector Operations](https://www.khanacademy.org/math/algebra-home/alg-vectors)\n",
    "\n",
    "### Defining Connected Joints\n",
    "The joint pairs defined represent connections between limbs in the human body."
   ]
  },
  {
   "cell_type": "code",
   "execution_count": 7,
   "id": "6d50cd9e",
   "metadata": {},
   "outputs": [],
   "source": [
    "joint_pairs = [('right_shoulder', 'right_elbow'), ('right_elbow', 'right_wrist'), ('right_hip', 'right_knee'), ('right_knee', 'right_ankle'), ('right_ankle', 'right_foot_index'), ('left_shoulder', 'left_elbow'), ('left_elbow', 'left_wrist'), ('left_hip', 'left_knee'), ('left_knee', 'left_ankle'), ('left_ankle', 'left_foot_index'), ('forehead', 'torso')]"
   ]
  },
  {
   "cell_type": "markdown",
   "id": "8c9d1796",
   "metadata": {},
   "source": [
    "### Computing Angles and Magnitude"
   ]
  },
  {
   "cell_type": "code",
   "execution_count": 8,
   "id": "aed6f222",
   "metadata": {},
   "outputs": [],
   "source": [
    "for joint in joint_pairs:\n",
    "    angles = []\n",
    "    distances = []\n",
    "    velocities = []\n",
    "    for i in range(len(kd)):\n",
    "        joint1 = np.array([kd[f\"{joint[0]}_x\"].iloc[i], kd[f\"{joint[0]}_y\"].iloc[i], kd[f\"{joint[0]}_z\"].iloc[i]])\n",
    "        joint2 = np.array([kd[f\"{joint[1]}_x\"].iloc[i], kd[f\"{joint[1]}_y\"].iloc[i], kd[f\"{joint[1]}_z\"].iloc[i]])     \n",
    "        dot_product = np.dot(joint1, joint2)\n",
    "        magnitude1 = np.linalg.norm(joint1)\n",
    "        magnitude2 = np.linalg.norm(joint2)\n",
    "        distance = np.linalg.norm(joint1 - joint2)\n",
    "        angle = np.degrees(np.arccos(dot_product / (magnitude1 * magnitude2)))\n",
    "\n",
    "        angles.append(angle)\n",
    "        distances.append(distance)\n",
    "\n",
    "        if i == 0:\n",
    "            velocity = 0\n",
    "            velocities.append(velocity)\n",
    "        else:\n",
    "            velocity = (distances[i] - distances[i-1]) * fps\n",
    "            velocities.append(velocity)\n",
    "\n",
    "    kd[f\"a_{joint[0]}_{joint[1]}\"] = angles\n",
    "    kd[f\"d_{joint[0]}_{joint[1]}\"] = distances\n",
    "    kd[f\"v_{joint[0]}_{joint[1]}\"] = velocities"
   ]
  },
  {
   "cell_type": "markdown",
   "id": "eadc602f",
   "metadata": {},
   "source": [
    "## Rate of Change\n",
    "\n",
    "The rate of change of a quantity measures how quickly that quantity is changing over time. It can be approximated by computing the difference between consecutive values of the quantity and dividing by the time difference between those values.\n",
    "\n",
    "\\begin{equation}\n",
    "\\text{rate of change}[i] = \\frac{x[i] - x[i-1]}{t[i] - t[i-1]}\n",
    "\\end{equation}\n",
    "\n",
    "[Reviewer on Khan Academy](https://www.khanacademy.org/math/algebra/x2f8bb11595b61c86:functions/x2f8bb11595b61c86:average-rate-of-change/v/introduction-to-average-rate-of-change)"
   ]
  },
  {
   "cell_type": "code",
   "execution_count": 9,
   "id": "1b2fb6ec",
   "metadata": {},
   "outputs": [
    {
     "data": {
      "text/html": [
       "<div>\n",
       "<style scoped>\n",
       "    .dataframe tbody tr th:only-of-type {\n",
       "        vertical-align: middle;\n",
       "    }\n",
       "\n",
       "    .dataframe tbody tr th {\n",
       "        vertical-align: top;\n",
       "    }\n",
       "\n",
       "    .dataframe thead th {\n",
       "        text-align: right;\n",
       "    }\n",
       "</style>\n",
       "<table border=\"1\" class=\"dataframe\">\n",
       "  <thead>\n",
       "    <tr style=\"text-align: right;\">\n",
       "      <th></th>\n",
       "      <th>frame</th>\n",
       "      <th>fps</th>\n",
       "      <th>nose_x</th>\n",
       "      <th>nose_y</th>\n",
       "      <th>nose_z</th>\n",
       "      <th>left_eye_inner_x</th>\n",
       "      <th>left_eye_inner_y</th>\n",
       "      <th>left_eye_inner_z</th>\n",
       "      <th>left_eye_x</th>\n",
       "      <th>left_eye_y</th>\n",
       "      <th>...</th>\n",
       "      <th>diff_right_knee_z</th>\n",
       "      <th>diff_left_knee_x</th>\n",
       "      <th>diff_left_knee_y</th>\n",
       "      <th>diff_left_knee_z</th>\n",
       "      <th>diff_right_ankle_x</th>\n",
       "      <th>diff_right_ankle_y</th>\n",
       "      <th>diff_right_ankle_z</th>\n",
       "      <th>diff_left_ankle_x</th>\n",
       "      <th>diff_left_ankle_y</th>\n",
       "      <th>diff_left_ankle_z</th>\n",
       "    </tr>\n",
       "  </thead>\n",
       "  <tbody>\n",
       "    <tr>\n",
       "      <th>0</th>\n",
       "      <td>0</td>\n",
       "      <td>30.0</td>\n",
       "      <td>0.501249</td>\n",
       "      <td>0.210489</td>\n",
       "      <td>-0.084651</td>\n",
       "      <td>0.508947</td>\n",
       "      <td>0.194841</td>\n",
       "      <td>-0.062590</td>\n",
       "      <td>0.514194</td>\n",
       "      <td>0.195405</td>\n",
       "      <td>...</td>\n",
       "      <td>0.000000</td>\n",
       "      <td>0.000000e+00</td>\n",
       "      <td>0.000000</td>\n",
       "      <td>0.000000</td>\n",
       "      <td>0.000000</td>\n",
       "      <td>0.000000</td>\n",
       "      <td>0.000000</td>\n",
       "      <td>0.000000</td>\n",
       "      <td>0.000000</td>\n",
       "      <td>0.000000</td>\n",
       "    </tr>\n",
       "    <tr>\n",
       "      <th>1</th>\n",
       "      <td>1</td>\n",
       "      <td>30.0</td>\n",
       "      <td>0.501941</td>\n",
       "      <td>0.211275</td>\n",
       "      <td>-0.245253</td>\n",
       "      <td>0.509505</td>\n",
       "      <td>0.196352</td>\n",
       "      <td>-0.219250</td>\n",
       "      <td>0.514590</td>\n",
       "      <td>0.196742</td>\n",
       "      <td>...</td>\n",
       "      <td>0.000324</td>\n",
       "      <td>-3.278255e-06</td>\n",
       "      <td>0.003548</td>\n",
       "      <td>0.063210</td>\n",
       "      <td>-0.004626</td>\n",
       "      <td>0.005318</td>\n",
       "      <td>0.049378</td>\n",
       "      <td>-0.000087</td>\n",
       "      <td>0.016001</td>\n",
       "      <td>0.047973</td>\n",
       "    </tr>\n",
       "    <tr>\n",
       "      <th>2</th>\n",
       "      <td>2</td>\n",
       "      <td>30.0</td>\n",
       "      <td>0.502662</td>\n",
       "      <td>0.211565</td>\n",
       "      <td>-0.249403</td>\n",
       "      <td>0.510098</td>\n",
       "      <td>0.196954</td>\n",
       "      <td>-0.222894</td>\n",
       "      <td>0.515015</td>\n",
       "      <td>0.197282</td>\n",
       "      <td>...</td>\n",
       "      <td>-0.001048</td>\n",
       "      <td>1.150370e-05</td>\n",
       "      <td>0.002482</td>\n",
       "      <td>0.001534</td>\n",
       "      <td>-0.002545</td>\n",
       "      <td>0.005571</td>\n",
       "      <td>-0.002750</td>\n",
       "      <td>-0.000019</td>\n",
       "      <td>0.006170</td>\n",
       "      <td>0.005876</td>\n",
       "    </tr>\n",
       "    <tr>\n",
       "      <th>3</th>\n",
       "      <td>3</td>\n",
       "      <td>30.0</td>\n",
       "      <td>0.503204</td>\n",
       "      <td>0.211633</td>\n",
       "      <td>-0.246048</td>\n",
       "      <td>0.510507</td>\n",
       "      <td>0.197138</td>\n",
       "      <td>-0.219161</td>\n",
       "      <td>0.515307</td>\n",
       "      <td>0.197445</td>\n",
       "      <td>...</td>\n",
       "      <td>-0.000439</td>\n",
       "      <td>1.132488e-06</td>\n",
       "      <td>0.002056</td>\n",
       "      <td>-0.001476</td>\n",
       "      <td>-0.000776</td>\n",
       "      <td>0.003955</td>\n",
       "      <td>-0.003464</td>\n",
       "      <td>-0.000049</td>\n",
       "      <td>0.003285</td>\n",
       "      <td>-0.000676</td>\n",
       "    </tr>\n",
       "    <tr>\n",
       "      <th>4</th>\n",
       "      <td>4</td>\n",
       "      <td>30.0</td>\n",
       "      <td>0.503533</td>\n",
       "      <td>0.211636</td>\n",
       "      <td>-0.246408</td>\n",
       "      <td>0.510845</td>\n",
       "      <td>0.197157</td>\n",
       "      <td>-0.219035</td>\n",
       "      <td>0.515560</td>\n",
       "      <td>0.197458</td>\n",
       "      <td>...</td>\n",
       "      <td>-0.000938</td>\n",
       "      <td>-5.960464e-08</td>\n",
       "      <td>0.001808</td>\n",
       "      <td>0.000249</td>\n",
       "      <td>-0.000197</td>\n",
       "      <td>0.001393</td>\n",
       "      <td>0.004212</td>\n",
       "      <td>-0.000009</td>\n",
       "      <td>0.001040</td>\n",
       "      <td>0.006928</td>\n",
       "    </tr>\n",
       "  </tbody>\n",
       "</table>\n",
       "<p>5 rows × 170 columns</p>\n",
       "</div>"
      ],
      "text/plain": [
       "   frame   fps    nose_x    nose_y    nose_z  left_eye_inner_x  \\\n",
       "0      0  30.0  0.501249  0.210489 -0.084651          0.508947   \n",
       "1      1  30.0  0.501941  0.211275 -0.245253          0.509505   \n",
       "2      2  30.0  0.502662  0.211565 -0.249403          0.510098   \n",
       "3      3  30.0  0.503204  0.211633 -0.246048          0.510507   \n",
       "4      4  30.0  0.503533  0.211636 -0.246408          0.510845   \n",
       "\n",
       "   left_eye_inner_y  left_eye_inner_z  left_eye_x  left_eye_y  ...  \\\n",
       "0          0.194841         -0.062590    0.514194    0.195405  ...   \n",
       "1          0.196352         -0.219250    0.514590    0.196742  ...   \n",
       "2          0.196954         -0.222894    0.515015    0.197282  ...   \n",
       "3          0.197138         -0.219161    0.515307    0.197445  ...   \n",
       "4          0.197157         -0.219035    0.515560    0.197458  ...   \n",
       "\n",
       "   diff_right_knee_z  diff_left_knee_x  diff_left_knee_y  diff_left_knee_z  \\\n",
       "0           0.000000      0.000000e+00          0.000000          0.000000   \n",
       "1           0.000324     -3.278255e-06          0.003548          0.063210   \n",
       "2          -0.001048      1.150370e-05          0.002482          0.001534   \n",
       "3          -0.000439      1.132488e-06          0.002056         -0.001476   \n",
       "4          -0.000938     -5.960464e-08          0.001808          0.000249   \n",
       "\n",
       "   diff_right_ankle_x  diff_right_ankle_y  diff_right_ankle_z  \\\n",
       "0            0.000000            0.000000            0.000000   \n",
       "1           -0.004626            0.005318            0.049378   \n",
       "2           -0.002545            0.005571           -0.002750   \n",
       "3           -0.000776            0.003955           -0.003464   \n",
       "4           -0.000197            0.001393            0.004212   \n",
       "\n",
       "   diff_left_ankle_x  diff_left_ankle_y  diff_left_ankle_z  \n",
       "0           0.000000           0.000000           0.000000  \n",
       "1          -0.000087           0.016001           0.047973  \n",
       "2          -0.000019           0.006170           0.005876  \n",
       "3          -0.000049           0.003285          -0.000676  \n",
       "4          -0.000009           0.001040           0.006928  \n",
       "\n",
       "[5 rows x 170 columns]"
      ]
     },
     "execution_count": 9,
     "metadata": {},
     "output_type": "execute_result"
    }
   ],
   "source": [
    "joints = [\"forehead\", \"torso\", \"right_shoulder\", \"left_shoulder\", \"right_elbow\", \"left_elbow\", \"right_knee\", \"left_knee\", \"right_ankle\", \"left_ankle\"]\n",
    "joints_x = [joint + \"_x\" for joint in joints]\n",
    "joints_y = [joint + \"_y\" for joint in joints]\n",
    "joints_z = [joint + \"_z\" for joint in joints]\n",
    "\n",
    "for joint_x, joint_y, joint_z in zip(joints_x, joints_y, joints_z):\n",
    "    diff_x = kd[joint_x].diff().fillna(0)\n",
    "    diff_y = kd[joint_y].diff().fillna(0)\n",
    "    diff_z = kd[joint_z].diff().fillna(0)\n",
    "    kd[f\"diff_{joint_x}\"] = diff_x\n",
    "    kd[f\"diff_{joint_y}\"] = diff_y\n",
    "    kd[f\"diff_{joint_z}\"] = diff_z\n",
    "    \n",
    "kd.head()"
   ]
  },
  {
   "cell_type": "markdown",
   "id": "b66c67df",
   "metadata": {},
   "source": [
    "## Save Processed DataFrames"
   ]
  },
  {
   "cell_type": "code",
   "execution_count": 10,
   "id": "036da4e3",
   "metadata": {},
   "outputs": [],
   "source": [
    "kd.to_csv('./data/processed/contemporary_001_all.csv')"
   ]
  },
  {
   "cell_type": "markdown",
   "id": "b1768c2b",
   "metadata": {},
   "source": [
    "## Absolute Values"
   ]
  },
  {
   "cell_type": "code",
   "execution_count": null,
   "id": "bfd5633b",
   "metadata": {},
   "outputs": [],
   "source": [
    "h, w = 360, 640\n",
    "kd_abs = kd.copy()\n",
    "kd_abs.loc[:, kd_abs.columns.str.endswith('_x')] *= w\n",
    "kd_abs.loc[:, kd_abs.columns.str.endswith('_y')] *= h\n",
    "kd_abs.loc[:, kd_abs.columns.str.endswith('_z')] = h - kd_abs.loc[:, kd_abs.columns.str.endswith('_z')]\n",
    "kd_abs.to_csv('./data/processed/contemporary_001_abs.csv', index=False)"
   ]
  },
  {
   "cell_type": "markdown",
   "id": "8ce7420b",
   "metadata": {},
   "source": [
    "## Batch Processing\n",
    "\n",
    "For more details about the data augmentation processing, please refer to the code in [/src/data/augmentation.py](https://github.com/kayesokua/gestures/blob/main/src/data/augmentation.py)"
   ]
  },
  {
   "cell_type": "code",
   "execution_count": 1,
   "id": "a06351f9",
   "metadata": {},
   "outputs": [
    {
     "name": "stdout",
     "output_type": "stream",
     "text": [
      "contemporary_007 has been processed!\n",
      "contemporary_006 has been processed!\n",
      "contemporary_004 has been processed!\n",
      "contemporary_005 has been processed!\n",
      "contemporary_001 has been processed!\n",
      "classical_ballet_001 has been processed!\n",
      "contemporary_002 has been processed!\n",
      "contemporary_003 has been processed!\n",
      "chinese_fan_001 has been processed!\n",
      "contemporary_008 has been processed!\n",
      "filipino_folk_001 has been processed!\n",
      "Elapsed time: 0.717 seconds\n"
     ]
    }
   ],
   "source": [
    "from src.data.augmentation import batch_data_augmentation\n",
    "batch_data_augmentation(\"./data/processed\")"
   ]
  },
  {
   "cell_type": "markdown",
   "id": "300b886a",
   "metadata": {},
   "source": [
    "## Summary\n",
    "* The kinematic data has been indexed by second based on the fps value.\n",
    "* Augmentation of the data includes new joint positions (torso, forehead), angles, distances, velocities of connected joints (connected limbs), and rate of change added for 10 joints (with the potential to add more).\n",
    "* Further iterations and analysis may lead to changes in the data augmentation process.\n",
    "   \n",
    "## Resources\n",
    "For a comprehensive list of resources, [please see here](https://github.com/kayesokua/gestures/blob/main/references/README.md)."
   ]
  }
 ],
 "metadata": {
  "kernelspec": {
   "display_name": "gestures",
   "language": "python",
   "name": "gestures"
  },
  "language_info": {
   "codemirror_mode": {
    "name": "ipython",
    "version": 3
   },
   "file_extension": ".py",
   "mimetype": "text/x-python",
   "name": "python",
   "nbconvert_exporter": "python",
   "pygments_lexer": "ipython3",
   "version": "3.10.6"
  }
 },
 "nbformat": 4,
 "nbformat_minor": 5
}
