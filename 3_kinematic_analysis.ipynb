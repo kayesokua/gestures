{
 "cells": [
  {
   "attachments": {},
   "cell_type": "markdown",
   "metadata": {},
   "source": [
    "# Dance Gestures (Drafted)\n",
    "\n",
    "Gestures in dance refer to movements made by the dancer to convey a particular meaning or feeling. They can be subtle or overt and may include movements of the hands, arms, head, and body. Gestures can be used to express emotions, tell stories, and enhance the overall expressive power of the dance.\n",
    "\n",
    "In this notebook, we are examining [Emma Joubert's Skinny Love (Birdy cover) Contemporary Solo](https://www.youtube.com/watch?v=QOlSCBRmfWY) and using [Mediapipe](https://google.github.io/mediapipe/) to extract x,y,z landmarks using its Pose Estimation Model. Numerical approach will be used to detect classic dance movements. But for now, only basic poses will be used.\n",
    "\n",
    "## Import Module"
   ]
  },
  {
   "cell_type": "code",
   "execution_count": 1,
   "metadata": {},
   "outputs": [],
   "source": [
    "import pandas as pd\n",
    "import numpy as np\n",
    "import seaborn as sns\n",
    "import math\n",
    "import matplotlib.pyplot as plt\n",
    "import matplotlib.cm as cm\n",
    "import mpl_toolkits\n",
    "from mpl_toolkits.mplot3d import Axes3D\n",
    "import cv2"
   ]
  },
  {
   "cell_type": "code",
   "execution_count": 7,
   "metadata": {},
   "outputs": [
    {
     "name": "stdout",
     "output_type": "stream",
     "text": [
      "h: 360, w: 640\n"
     ]
    }
   ],
   "source": [
    "cap = cv2.VideoCapture('./data/interim/frames/contemporary_dance_solo_20230219225812_10_annotated.mp4')\n",
    "h = int(cap.get(cv2.CAP_PROP_FRAME_HEIGHT))\n",
    "w = int(cap.get(cv2.CAP_PROP_FRAME_WIDTH))\n",
    "print(f\"h: {h}, w: {w}\")\n",
    "cap.release()\n",
    "df = pd.read_csv('./data/interim/landmarks/contemporary_dance_solo_20230219225812_10.csv')\n",
    "df.set_index('frame', inplace=True)"
   ]
  },
  {
   "cell_type": "code",
   "execution_count": 8,
   "metadata": {},
   "outputs": [
    {
     "name": "stdout",
     "output_type": "stream",
     "text": [
      "Index(['nose_x', 'nose_y', 'nose_z', 'left_eye_inner_x', 'left_eye_inner_y',\n",
      "       'left_eye_inner_z', 'left_eye_x', 'left_eye_y', 'left_eye_z',\n",
      "       'left_eye_outer_x', 'left_eye_outer_y', 'left_eye_outer_z',\n",
      "       'right_eye_inner_x', 'right_eye_inner_y', 'right_eye_inner_z',\n",
      "       'right_eye_x', 'right_eye_y', 'right_eye_z', 'right_eye_outer_x',\n",
      "       'right_eye_outer_y', 'right_eye_outer_z', 'left_ear_x', 'left_ear_y',\n",
      "       'left_ear_z', 'right_ear_x', 'right_ear_y', 'right_ear_z',\n",
      "       'mouth_left_x', 'mouth_left_y', 'mouth_left_z', 'mouth_right_x',\n",
      "       'mouth_right_y', 'mouth_right_z', 'left_shoulder_x', 'left_shoulder_y',\n",
      "       'left_shoulder_z', 'right_shoulder_x', 'right_shoulder_y',\n",
      "       'right_shoulder_z', 'left_elbow_x', 'left_elbow_y', 'left_elbow_z',\n",
      "       'right_elbow_x', 'right_elbow_y', 'right_elbow_z', 'left_wrist_x',\n",
      "       'left_wrist_y', 'left_wrist_z', 'right_wrist_x', 'right_wrist_y',\n",
      "       'right_wrist_z', 'left_pinky_x', 'left_pinky_y', 'left_pinky_z',\n",
      "       'right_pinky_x', 'right_pinky_y', 'right_pinky_z', 'left_index_x',\n",
      "       'left_index_y', 'left_index_z', 'right_index_x', 'right_index_y',\n",
      "       'right_index_z', 'left_thumb_x', 'left_thumb_y', 'left_thumb_z',\n",
      "       'right_thumb_x', 'right_thumb_y', 'right_thumb_z', 'left_hip_x',\n",
      "       'left_hip_y', 'left_hip_z', 'right_hip_x', 'right_hip_y', 'right_hip_z',\n",
      "       'left_knee_x', 'left_knee_y', 'left_knee_z', 'right_knee_x',\n",
      "       'right_knee_y', 'right_knee_z', 'left_ankle_x', 'left_ankle_y',\n",
      "       'left_ankle_z', 'right_ankle_x', 'right_ankle_y', 'right_ankle_z',\n",
      "       'left_heel_x', 'left_heel_y', 'left_heel_z', 'right_heel_x',\n",
      "       'right_heel_y', 'right_heel_z', 'left_foot_index_x',\n",
      "       'left_foot_index_y', 'left_foot_index_z', 'right_foot_index_x',\n",
      "       'right_foot_index_y', 'right_foot_index_z', 'landmarks'],\n",
      "      dtype='object')\n"
     ]
    }
   ],
   "source": [
    "print(df.columns)"
   ]
  },
  {
   "cell_type": "code",
   "execution_count": 3,
   "metadata": {},
   "outputs": [
    {
     "name": "stdout",
     "output_type": "stream",
     "text": [
      "Smallest z-value: -0.66, Largest z-value: 0.71, Average: 0\n"
     ]
    }
   ],
   "source": [
    "df.loc[:, df.columns.str.endswith('_x')] *= w\n",
    "df.loc[:, df.columns.str.endswith('_y')] *= h\n",
    "df.loc[:, df.columns.str.endswith('_y')] = h - df.loc[:, df.columns.str.endswith('_y')]\n",
    "\n",
    "# Understanding the Z-coordinate can help us determine the quality of the dance video\n",
    "# If the mean average is close to 0, it may indicate the subject's position is consistent\n",
    "z_cols = df.filter(regex='_z$')\n",
    "z_min = round(z_cols.min().min(),2)\n",
    "z_max = round(z_cols.max().max(),2)\n",
    "z_mean = round(z_cols.mean().mean())\n",
    "print(f\"Smallest z-value: {z_min}, Largest z-value: {z_max}, Average: {z_mean}\")"
   ]
  },
  {
   "cell_type": "markdown",
   "metadata": {},
   "source": [
    "### Mediapipe's Post Landmark\n",
    "![Image](https://mediapipe.dev/images/mobile/pose_tracking_full_body_landmarks.png)"
   ]
  },
  {
   "cell_type": "markdown",
   "metadata": {},
   "source": [
    "### Defining Basic Poses\n",
    "\n",
    "![Image](https://i.ibb.co/zFDftG3/poses.png)\n",
    "\n",
    "Let's first define the basic positions using using a numerical approach\n",
    "\n",
    "1. `Standing`: If the difference between the height of the right and left sides is less than 0.08\n",
    "\n",
    "2. `Sitting down`: If the difference between the y-axis \n",
    "\n",
    "3. `Bent Knee`: If the angle from hip to knee not within the range of 85-95\n",
    "\n",
    "## Numerical Operations\n",
    "Numerical operations required to get joint estimates, distances, and angles using geometry"
   ]
  },
  {
   "cell_type": "code",
   "execution_count": 4,
   "metadata": {},
   "outputs": [],
   "source": [
    "# Estimated forehead position\n",
    "df.loc[:, 'forehead_x'] = (df['left_eye_outer_x'] + df['right_eye_outer_x']) / 2\n",
    "df.loc[:, 'forehead_y'] = (df['left_eye_outer_y'] + df['right_eye_outer_y']) / 2\n",
    "df.loc[:, 'forehead_z'] = (df['left_eye_outer_z'] + df['right_eye_outer_z']) / 2\n",
    "\n",
    "# Estimated torso position\n",
    "df.loc[:, 'torso_x'] = (df['left_shoulder_x'] + df['right_shoulder_x'] + df['left_hip_x'] + df['right_hip_x']) / 4\n",
    "df.loc[:, 'torso_y'] = (df['left_shoulder_y'] + df['right_shoulder_y'] + df['left_hip_y'] + df['right_hip_y']) / 4\n",
    "df.loc[:, 'torso_z'] = (df['left_shoulder_z'] + df['right_shoulder_z'] + df['left_hip_z'] + df['right_hip_z']) / 4\n",
    "\n",
    "# Eucleadian distance between right shoulder to hip\n",
    "df.loc[:, 'dis_right_shoulder_to_hip'] = np.sqrt((df['right_hip_y'] - df['right_knee_y'])**2)\n",
    "df.loc[:, 'dis_left_shoulder_to_hip'] = np.sqrt((df['left_hip_y'] - df['left_knee_y'])**2)\n",
    "\n",
    "# Eucleadian distance between hip to knee\n",
    "df.loc[:, 'dis_right_hip_to_knee'] = np.sqrt((df['right_hip_y'] - df['right_knee_y'])**2)\n",
    "df.loc[:, 'dis_left_hip_to_knee'] = np.sqrt((df['left_hip_y'] - df['left_knee_y'])**2)\n",
    "\n",
    "# Eucleadian distance between knee to ankle\n",
    "df.loc[:, 'dis_right_knee_to_ankle'] = np.sqrt((df['right_knee_y'] - df['right_ankle_y'])**2)\n",
    "df.loc[:, 'dis_left_knee_to_ankle'] = np.sqrt((df['left_knee_y'] - df['left_ankle_y'])**2)\n",
    "\n",
    "# Eucleadian distance between forehead to right shoulder\n",
    "df.loc[:, 'dis_forehead_to_right_shoulder'] = np.sqrt((df['forehead_y'] - df['right_shoulder_y'])**2)\n",
    "df.loc[:, 'dis_forehead_to_left_shoulder'] = np.sqrt((df['forehead_y'] - df['left_shoulder_y'])**2)\n",
    "\n",
    "# Difference between height to the left and to the right\n",
    "df.loc[:, 'total_height_r'] = df['dis_forehead_to_right_shoulder'] + df['dis_right_shoulder_to_hip'] + df['dis_right_hip_to_knee'] + df['dis_right_knee_to_ankle']\n",
    "df.loc[:, 'total_height_l'] = df['dis_forehead_to_left_shoulder'] + df['dis_left_shoulder_to_hip'] + df['dis_left_hip_to_knee'] + df['dis_left_knee_to_ankle']\n",
    "df.loc[:,'diff_height_r_and_l'] = (df['total_height_r'] - df['total_height_l']).abs()\n",
    "\n",
    "# Difference in x-axis from hip to ankle\n",
    "df.loc[:, 'diff_hip_to_ankle_r'] = (df['right_hip_x']-df['right_ankle_x']).abs()\n",
    "df.loc[:, 'diff_hip_to_ankle_l'] = (df['left_hip_x']-df['left_ankle_x']).abs()\n",
    "\n",
    "# calculate the angle between the hip and knee joint for the right leg\n",
    "df['angle_hip_knee_r'] = df.apply(lambda row: math.degrees(math.atan2(row['right_knee_y'] - row['right_hip_y'], row['right_knee_x'] - row['right_hip_x'])), axis=1)\n",
    "df['angle_hip_knee_l'] = df.apply(lambda row: math.degrees(math.atan2(row['left_knee_y'] - row['left_hip_y'], row['left_knee_x'] - row['left_hip_x'])), axis=1)"
   ]
  },
  {
   "cell_type": "markdown",
   "metadata": {},
   "source": [
    "## Basic Poses Algorithms\n",
    "This code estimates positions of different body parts, computes Euclidean distances between them, calculates the difference between heights, difference in x-axis from hip to ankle, and the angle between the hip and knee joint for the left and right legs for each row in the dataframe."
   ]
  },
  {
   "cell_type": "code",
   "execution_count": 5,
   "metadata": {},
   "outputs": [
    {
     "name": "stdout",
     "output_type": "stream",
     "text": [
      "Estimated standing position 23.53 s\n",
      "Estimated sitting position 37.55 s\n",
      "Estimated bent knee position 59.36 s\n"
     ]
    }
   ],
   "source": [
    "def measure_pose_standing(df, threshold):\n",
    "    dfs = df.copy()\n",
    "    dfs['diff_rate_r'] = dfs['diff_height_r_and_l'] / dfs['total_height_r']\n",
    "    dfs['diff_rate_l'] = dfs['diff_height_r_and_l'] / dfs['total_height_l']\n",
    "    dfs['both_legs_straight'] = (dfs['diff_rate_r'] <= threshold) & (dfs['diff_rate_l'] <= threshold)\n",
    "    total = dfs['both_legs_straight'].sum()\n",
    "    return round(total/24.9,2)\n",
    "\n",
    "print(f\"Estimated standing position {measure_pose_standing(df,0.08)} s\")\n",
    "\n",
    "def measure_pose_sitting(df, threshold):\n",
    "    dfs = df.copy()\n",
    "    dfs['diff_rate_r'] = dfs['diff_hip_to_ankle_r']/((dfs['right_hip_x']+dfs['right_ankle_x'])/2)\n",
    "    dfs['diff_rate_l'] = dfs['diff_hip_to_ankle_r']/((dfs['right_hip_x']+dfs['right_ankle_x'])/2)\n",
    "    dfs['both_legs_sitting'] = (dfs['diff_rate_r'] <= threshold) & (dfs['diff_rate_l'] <= threshold)\n",
    "    total = dfs['both_legs_sitting'].sum()\n",
    "    return round(total/24.9,2)\n",
    "\n",
    "print(f\"Estimated sitting position {measure_pose_sitting(df,0.08)} s\")\n",
    "\n",
    "\n",
    "def measure_pose_bent_knees(df):\n",
    "    dfs = df[['angle_hip_knee_r','angle_hip_knee_l']].abs()\n",
    "    dfs['bent_knees'] = (dfs['angle_hip_knee_r'] < 80) | (dfs['angle_hip_knee_r'] > 100) & (dfs['angle_hip_knee_l'] < 80) | (dfs['angle_hip_knee_l'] > 100)\n",
    "    total = dfs['bent_knees'].sum()\n",
    "    return round(total/24.9,2)\n",
    "\n",
    "print(f\"Estimated bent knee position {measure_pose_bent_knees(df)} s\")"
   ]
  },
  {
   "cell_type": "markdown",
   "metadata": {},
   "source": [
    "## To be continued"
   ]
  }
 ],
 "metadata": {
  "kernelspec": {
   "display_name": "gestures",
   "language": "python",
   "name": "gestures"
  },
  "language_info": {
   "codemirror_mode": {
    "name": "ipython",
    "version": 3
   },
   "file_extension": ".py",
   "mimetype": "text/x-python",
   "name": "python",
   "nbconvert_exporter": "python",
   "pygments_lexer": "ipython3",
   "version": "3.10.6"
  }
 },
 "nbformat": 4,
 "nbformat_minor": 2
}
