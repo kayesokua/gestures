{
 "cells": [
  {
   "cell_type": "markdown",
   "id": "38a73db4",
   "metadata": {},
   "source": [
    "# Data Augmention\n",
    "\n",
    "### Required Modules"
   ]
  },
  {
   "cell_type": "code",
   "execution_count": 3,
   "id": "115493ee",
   "metadata": {},
   "outputs": [],
   "source": [
    "import pandas as pd"
   ]
  },
  {
   "cell_type": "markdown",
   "id": "6c101b4c",
   "metadata": {},
   "source": [
    "## Converting Relative to Absolute Values\n",
    "This process is important in understanding the eucledian distance and joint angles"
   ]
  },
  {
   "cell_type": "code",
   "execution_count": 6,
   "id": "cc43d3ac",
   "metadata": {},
   "outputs": [
    {
     "name": "stdout",
     "output_type": "stream",
     "text": [
      "Smallest z-value: -0.68, Largest z-value: 0.79, Average: 0\n"
     ]
    }
   ],
   "source": [
    "h, w = 360, 640\n",
    "kd = pd.read_csv('./data/interim/contemporary_001/landmarks_rel.csv')\n",
    "kd.loc[:, kd.columns.str.endswith('_x')] *= w\n",
    "kd.loc[:, kd.columns.str.endswith('_y')] *= h\n",
    "kd.loc[:, kd.columns.str.endswith('_y')] = h - kd.loc[:, kd.columns.str.endswith('_y')]\n",
    "\n",
    "z_cols = kd.filter(regex='_z$')\n",
    "z_min = round(z_cols.min().min(),2)\n",
    "z_max = round(z_cols.max().max(),2)\n",
    "z_mean = round(z_cols.mean().mean())\n",
    "print(f\"Smallest z-value: {z_min}, Largest z-value: {z_max}, Average: {z_mean}\")"
   ]
  },
  {
   "cell_type": "markdown",
   "id": "ea20fb92",
   "metadata": {},
   "source": [
    "## Adding Joints\n",
    "\n",
    "Currently, MediaPipe uses 24 landmarks to joint. We estimate extra joints for the purpose of understanding body alignment.\n",
    "\n",
    "![Image](https://mediapipe.dev/images/mobile/pose_tracking_full_body_landmarks.png)\n",
    "\n",
    "### Torso Joint\n",
    "The code calculates the torso joint positions based on the positions of the left and right shoulders and hips. The resulting data contains additional joint positions that can be used for further analysis and visualization."
   ]
  },
  {
   "cell_type": "code",
   "execution_count": 7,
   "id": "1475ee66",
   "metadata": {},
   "outputs": [],
   "source": [
    "kd.loc[:, 'torso_x'] = (kd['left_shoulder_x'] + kd['right_shoulder_x'] + kd['left_hip_x'] + kd['right_hip_x']) / 4\n",
    "kd.loc[:, 'torso_y'] = (kd['left_shoulder_y'] + kd['right_shoulder_y'] + kd['left_hip_y'] + kd['right_hip_y']) / 4\n",
    "kd.loc[:, 'torso_z'] = (kd['left_shoulder_z'] + kd['right_shoulder_z'] + kd['left_hip_z'] + kd['right_hip_z']) / 4"
   ]
  },
  {
   "cell_type": "code",
   "execution_count": 8,
   "id": "3605b46f",
   "metadata": {},
   "outputs": [],
   "source": [
    "kd.loc[:, 'forehead_x'] = (kd['left_eye_outer_x'] + kd['right_eye_outer_x']) / 2\n",
    "kd.loc[:, 'forehead_y'] = (kd['left_eye_outer_y'] + kd['right_eye_outer_y']) / 2\n",
    "kd.loc[:, 'forehead_z'] = (kd['left_eye_outer_z'] + kd['right_eye_outer_z']) / 2"
   ]
  },
  {
   "cell_type": "markdown",
   "id": "22fc6ab8",
   "metadata": {},
   "source": [
    "## Angles of Connected Joints\n",
    "\n",
    "Here we will calculate the angles of connected joints which can be relevant information for extracting gestures - for example bending of knees."
   ]
  },
  {
   "cell_type": "code",
   "execution_count": null,
   "id": "c8cc83f4",
   "metadata": {},
   "outputs": [],
   "source": [
    "\n",
    "# Estimated torso position\n",
    "df.loc[:, 'torso_x'] = (df['left_shoulder_x'] + df['right_shoulder_x'] + df['left_hip_x'] + df['right_hip_x']) / 4\n",
    "df.loc[:, 'torso_y'] = (df['left_shoulder_y'] + df['right_shoulder_y'] + df['left_hip_y'] + df['right_hip_y']) / 4\n",
    "df.loc[:, 'torso_z'] = (df['left_shoulder_z'] + df['right_shoulder_z'] + df['left_hip_z'] + df['right_hip_z']) / 4\n",
    "\n",
    "# Eucleadian distance between right shoulder to hip\n",
    "df.loc[:, 'dis_right_shoulder_to_hip'] = np.sqrt((df['right_hip_y'] - df['right_knee_y'])**2)\n",
    "df.loc[:, 'dis_left_shoulder_to_hip'] = np.sqrt((df['left_hip_y'] - df['left_knee_y'])**2)\n",
    "\n",
    "# Eucleadian distance between hip to knee\n",
    "df.loc[:, 'dis_right_hip_to_knee'] = np.sqrt((df['right_hip_y'] - df['right_knee_y'])**2)\n",
    "df.loc[:, 'dis_left_hip_to_knee'] = np.sqrt((df['left_hip_y'] - df['left_knee_y'])**2)\n",
    "\n",
    "# Eucleadian distance between knee to ankle\n",
    "df.loc[:, 'dis_right_knee_to_ankle'] = np.sqrt((df['right_knee_y'] - df['right_ankle_y'])**2)\n",
    "df.loc[:, 'dis_left_knee_to_ankle'] = np.sqrt((df['left_knee_y'] - df['left_ankle_y'])**2)\n",
    "\n",
    "# Eucleadian distance between forehead to right shoulder\n",
    "df.loc[:, 'dis_forehead_to_right_shoulder'] = np.sqrt((df['forehead_y'] - df['right_shoulder_y'])**2)\n",
    "df.loc[:, 'dis_forehead_to_left_shoulder'] = np.sqrt((df['forehead_y'] - df['left_shoulder_y'])**2)\n",
    "\n",
    "# Difference between height to the left and to the right\n",
    "df.loc[:, 'total_height_r'] = df['dis_forehead_to_right_shoulder'] + df['dis_right_shoulder_to_hip'] + df['dis_right_hip_to_knee'] + df['dis_right_knee_to_ankle']\n",
    "df.loc[:, 'total_height_l'] = df['dis_forehead_to_left_shoulder'] + df['dis_left_shoulder_to_hip'] + df['dis_left_hip_to_knee'] + df['dis_left_knee_to_ankle']\n",
    "df.loc[:,'diff_height_r_and_l'] = (df['total_height_r'] - df['total_height_l']).abs()\n",
    "\n",
    "# Difference in x-axis from hip to ankle\n",
    "df.loc[:, 'diff_hip_to_ankle_r'] = (df['right_hip_x']-df['right_ankle_x']).abs()\n",
    "df.loc[:, 'diff_hip_to_ankle_l'] = (df['left_hip_x']-df['left_ankle_x']).abs()\n",
    "\n",
    "# calculate the angle between the hip and knee joint for the right leg\n",
    "df['angle_hip_knee_r'] = df.apply(lambda row: math.degrees(math.atan2(row['right_knee_y'] - row['right_hip_y'], row['right_knee_x'] - row['right_hip_x'])), axis=1)\n",
    "df['angle_hip_knee_l'] = df.apply(lambda row: math.degrees(math.atan2(row['left_knee_y'] - row['left_hip_y'], row['left_knee_x'] - row['left_hip_x'])), axis=1)"
   ]
  },
  {
   "cell_type": "markdown",
   "id": "b9e1cb75",
   "metadata": {},
   "source": [
    "## Distance Between Joints\n",
    "Here we will compute the distance between connected joints to descibe further upper and lower body movement."
   ]
  },
  {
   "cell_type": "code",
   "execution_count": null,
   "id": "d85586d4",
   "metadata": {},
   "outputs": [],
   "source": []
  },
  {
   "cell_type": "markdown",
   "id": "300b886a",
   "metadata": {},
   "source": [
    "## Summary\n",
    "\n",
    "* In this notebook, we have identified the data augmention process using basic geometric methods.\n",
    "* The limitation of using absolute values is.. and that video is assumed to be on the upright position (or where the performer is not inverted)"
   ]
  }
 ],
 "metadata": {
  "kernelspec": {
   "display_name": "Python 3 (ipykernel)",
   "language": "python",
   "name": "python3"
  },
  "language_info": {
   "codemirror_mode": {
    "name": "ipython",
    "version": 3
   },
   "file_extension": ".py",
   "mimetype": "text/x-python",
   "name": "python",
   "nbconvert_exporter": "python",
   "pygments_lexer": "ipython3",
   "version": "3.10.6"
  }
 },
 "nbformat": 4,
 "nbformat_minor": 5
}
